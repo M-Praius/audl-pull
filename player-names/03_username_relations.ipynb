{
 "cells": [
  {
   "cell_type": "code",
   "execution_count": 3,
   "metadata": {},
   "outputs": [],
   "source": [
    "import pandas as pd\n",
    "import glob"
   ]
  },
  {
   "cell_type": "code",
   "execution_count": 4,
   "metadata": {},
   "outputs": [],
   "source": [
    "audl = pd.concat([pd.read_csv(dfteam, index_col=0) for dfteam in glob.glob('../output/*.csv')])"
   ]
  },
  {
   "cell_type": "code",
   "execution_count": 5,
   "metadata": {},
   "outputs": [
    {
     "data": {
      "text/plain": [
       "Index(['Date/Time', 'Opponent', 'Point Elapsed Seconds', 'Line',\n",
       "       'Our Score - End of Point', 'Their Score - End of Point', 'Event Type',\n",
       "       'Action', 'Passer', 'Receiver', 'Defender', 'Hang Time (secs)',\n",
       "       'Player 0', 'Player 1', 'Player 2', 'Player 3', 'Player 4', 'Player 5',\n",
       "       'Player 6', 'Player 7', 'Player 8', 'Player 9', 'Player 10',\n",
       "       'Player 11', 'Player 12', 'Player 13', 'Player 14', 'Player 15',\n",
       "       'Player 16', 'Player 17', 'Player 18', 'Player 19', 'Player 20',\n",
       "       'Player 21', 'Player 22', 'Player 23', 'Player 24', 'Player 25',\n",
       "       'Player 26', 'Player 27', 'Elapsed Time (secs)', 'Begin Area',\n",
       "       'Begin X', 'Begin Y', 'End Area', 'End X', 'End Y',\n",
       "       'Distance Unit of Measure', 'Absolute Distance', 'Lateral Distance',\n",
       "       'Toward Our Goal Distance', 'Teamname', 'Tournament'],\n",
       "      dtype='object')"
      ]
     },
     "execution_count": 5,
     "metadata": {},
     "output_type": "execute_result"
    }
   ],
   "source": [
    "audl.columns"
   ]
  },
  {
   "cell_type": "code",
   "execution_count": 8,
   "metadata": {},
   "outputs": [],
   "source": [
    "player_fields = ['Passer', 'Receiver', 'Defender', \n",
    "                'Player 0', 'Player 1', 'Player 2', 'Player 3', 'Player 4', 'Player 5',\n",
    "                'Player 6', 'Player 7', 'Player 8', 'Player 9', 'Player 10',\n",
    "                'Player 11', 'Player 12', 'Player 13', 'Player 14', 'Player 15',\n",
    "                'Player 16', 'Player 17', 'Player 18', 'Player 19', 'Player 20',\n",
    "                'Player 21', 'Player 22', 'Player 23', 'Player 24', 'Player 25',\n",
    "                'Player 26', 'Player 27']"
   ]
  },
  {
   "cell_type": "code",
   "execution_count": 27,
   "metadata": {},
   "outputs": [],
   "source": [
    "def GetUsernames(df_in):\n",
    "    list_out = pd.unique(df_in[player_fields].bfill().ffill().values.ravel('K'))\n",
    "    return [i for i in list_out if str(i) not in ['nan','Anonymous'] ]\n",
    "\n",
    "usernamelist_relations = pd.DataFrame(audl.groupby(['Teamname','Tournament']).apply(GetUsernames)).reset_index().rename(columns={0:'usernames'})"
   ]
  },
  {
   "cell_type": "code",
   "execution_count": 76,
   "metadata": {},
   "outputs": [],
   "source": [
    "username_relations = pd.DataFrame([ [row['Teamname'],row['Tournament'],username] for i,row in usernamelist_relations.iterrows() for username in row['usernames'] ],\n",
    "                                     columns=['Teamname','Tournament','Username']\n",
    "                                    ).sort_values(['Teamname','Username','Tournament']).reset_index(drop=True)"
   ]
  },
  {
   "cell_type": "code",
   "execution_count": 79,
   "metadata": {},
   "outputs": [],
   "source": [
    "username_relations.to_csv('03_username_relations.csv')"
   ]
  }
 ],
 "metadata": {
  "kernelspec": {
   "display_name": "Python 3",
   "language": "python",
   "name": "python3"
  },
  "language_info": {
   "codemirror_mode": {
    "name": "ipython",
    "version": 3
   },
   "file_extension": ".py",
   "mimetype": "text/x-python",
   "name": "python",
   "nbconvert_exporter": "python",
   "pygments_lexer": "ipython3",
   "version": "3.6.6"
  }
 },
 "nbformat": 4,
 "nbformat_minor": 2
}
