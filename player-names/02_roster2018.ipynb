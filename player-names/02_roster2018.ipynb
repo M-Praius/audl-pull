{
 "cells": [
  {
   "cell_type": "code",
   "execution_count": 8,
   "metadata": {},
   "outputs": [],
   "source": [
    "import pandas as pd\n",
    "import glob\n",
    "import requests\n",
    "from bs4 import BeautifulSoup\n",
    "import os\n",
    "import difflib\n"
   ]
  },
  {
   "cell_type": "code",
   "execution_count": 9,
   "metadata": {},
   "outputs": [],
   "source": [
    "audl = pd.concat([pd.read_csv(dfteam, index_col=0) for dfteam in glob.glob('../output/*.csv')])"
   ]
  },
  {
   "cell_type": "code",
   "execution_count": 3,
   "metadata": {},
   "outputs": [],
   "source": [
    "webscraped_players = pd.read_csv('01_webscraped_audlplayers2018.csv')\n",
    "\n",
    "somelist=[]\n",
    "for i in webscraped_players['team-href'].values:\n",
    "    result = requests.get(\"{}/players\".format(i))\n",
    "    soup = BeautifulSoup(result.text,'lxml')\n",
    "    for j in (soup.find_all('div', {'class':\"views-field views-field-player-field-player-display-name\"})):\n",
    "        somelist.append([os.path.basename(i),j.text])"
   ]
  },
  {
   "cell_type": "code",
   "execution_count": 19,
   "metadata": {},
   "outputs": [],
   "source": [
    "rosters2018 = pd.DataFrame(somelist,columns=['team','PlayerName'])\n",
    "rosters2018['PlayerName'] = rosters2018.PlayerName.str.rstrip(' ').str.lstrip(' ')\n",
    "rosters2018['Tournament'] = 'AUDL 2018'\n",
    "\n",
    "tpdict={}\n",
    "for team in rosters2018.team.unique():\n",
    "    mtch = difflib.get_close_matches(team,[ teamname.split()[-1] for teamname in audl.Teamname.unique()],cutoff=.5 )[0]\n",
    "    tmnm = difflib.get_close_matches(mtch,audl.Teamname.unique(),cutoff=.4)[0]\n",
    "    tpdict[team]=tmnm\n",
    "    \n",
    "rosters2018['Teamname'] = [tpdict[i] for i in rosters2018.team]\n"
   ]
  },
  {
   "cell_type": "code",
   "execution_count": 23,
   "metadata": {},
   "outputs": [],
   "source": [
    "rosters2018.to_csv('02_roster2018.csv')\n"
   ]
  }
 ],
 "metadata": {
  "kernelspec": {
   "display_name": "Python 3",
   "language": "python",
   "name": "python3"
  },
  "language_info": {
   "codemirror_mode": {
    "name": "ipython",
    "version": 3
   },
   "file_extension": ".py",
   "mimetype": "text/x-python",
   "name": "python",
   "nbconvert_exporter": "python",
   "pygments_lexer": "ipython3",
   "version": "3.6.6"
  }
 },
 "nbformat": 4,
 "nbformat_minor": 2
}
